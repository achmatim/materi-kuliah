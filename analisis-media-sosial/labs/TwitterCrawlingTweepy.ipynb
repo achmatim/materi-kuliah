{
  "cells": [
    {
      "cell_type": "markdown",
      "metadata": {
        "id": "K3hXPG0T1236"
      },
      "source": [
        "# Twitter Crawling with Tweepy\n",
        "\n",
        "Twitter implements OAuth 1.0A as its standard authentication mechanism, and in order to use it to make requests to Twitter's API, you'll need to go to https://developer.twitter.com/en/apps and create a sample application. It is possible that Twitter no longer supports sandboxed applications and you may need to submit a request for permission to develop an app on Twitter.\n",
        "\n",
        "There are four primary identifiers you'll need to note for an OAuth 1.0A workflow: consumer key, consumer secret, access token, and access token secret. Note that you will need an ordinary Twitter account in order to login, create an app, and get these credentials."
      ]
    },
    {
      "cell_type": "markdown",
      "source": [
        "# Lib Tweepy"
      ],
      "metadata": {
        "id": "WTY2ckD5RO2R"
      }
    },
    {
      "cell_type": "code",
      "execution_count": null,
      "metadata": {
        "id": "JvWOCXRE124k",
        "colab": {
          "base_uri": "https://localhost:8080/"
        },
        "outputId": "a724301f-db1f-4c26-d435-74b927efc95f"
      },
      "outputs": [
        {
          "output_type": "stream",
          "name": "stdout",
          "text": [
            "Requirement already satisfied: tweepy in /usr/local/lib/python3.7/dist-packages (3.10.0)\n",
            "Requirement already satisfied: requests-oauthlib>=0.7.0 in /usr/local/lib/python3.7/dist-packages (from tweepy) (1.3.1)\n",
            "Requirement already satisfied: six>=1.10.0 in /usr/local/lib/python3.7/dist-packages (from tweepy) (1.15.0)\n",
            "Requirement already satisfied: requests[socks]>=2.11.1 in /usr/local/lib/python3.7/dist-packages (from tweepy) (2.23.0)\n",
            "Requirement already satisfied: oauthlib>=3.0.0 in /usr/local/lib/python3.7/dist-packages (from requests-oauthlib>=0.7.0->tweepy) (3.2.0)\n",
            "Requirement already satisfied: urllib3!=1.25.0,!=1.25.1,<1.26,>=1.21.1 in /usr/local/lib/python3.7/dist-packages (from requests[socks]>=2.11.1->tweepy) (1.24.3)\n",
            "Requirement already satisfied: idna<3,>=2.5 in /usr/local/lib/python3.7/dist-packages (from requests[socks]>=2.11.1->tweepy) (2.10)\n",
            "Requirement already satisfied: certifi>=2017.4.17 in /usr/local/lib/python3.7/dist-packages (from requests[socks]>=2.11.1->tweepy) (2021.10.8)\n",
            "Requirement already satisfied: chardet<4,>=3.0.2 in /usr/local/lib/python3.7/dist-packages (from requests[socks]>=2.11.1->tweepy) (3.0.4)\n",
            "Requirement already satisfied: PySocks!=1.5.7,>=1.5.6 in /usr/local/lib/python3.7/dist-packages (from requests[socks]>=2.11.1->tweepy) (1.7.1)\n"
          ]
        }
      ],
      "source": [
        "!pip install tweepy"
      ]
    },
    {
      "cell_type": "code",
      "source": [
        "!pip install tweepy --upgrade"
      ],
      "metadata": {
        "colab": {
          "base_uri": "https://localhost:8080/",
          "height": 595
        },
        "id": "_WM8NTcVTUFI",
        "outputId": "ab787317-b840-4a2a-f366-01891a020093"
      },
      "execution_count": null,
      "outputs": [
        {
          "output_type": "stream",
          "name": "stdout",
          "text": [
            "Requirement already satisfied: tweepy in /usr/local/lib/python3.7/dist-packages (3.10.0)\n",
            "Collecting tweepy\n",
            "  Downloading tweepy-4.8.0-py2.py3-none-any.whl (77 kB)\n",
            "\u001b[K     |████████████████████████████████| 77 kB 2.1 MB/s \n",
            "\u001b[?25hRequirement already satisfied: requests-oauthlib<2,>=1.2.0 in /usr/local/lib/python3.7/dist-packages (from tweepy) (1.3.1)\n",
            "Requirement already satisfied: oauthlib<4,>=3.2.0 in /usr/local/lib/python3.7/dist-packages (from tweepy) (3.2.0)\n",
            "Collecting requests<3,>=2.27.0\n",
            "  Downloading requests-2.27.1-py2.py3-none-any.whl (63 kB)\n",
            "\u001b[K     |████████████████████████████████| 63 kB 1.5 MB/s \n",
            "\u001b[?25hRequirement already satisfied: certifi>=2017.4.17 in /usr/local/lib/python3.7/dist-packages (from requests<3,>=2.27.0->tweepy) (2021.10.8)\n",
            "Requirement already satisfied: idna<4,>=2.5 in /usr/local/lib/python3.7/dist-packages (from requests<3,>=2.27.0->tweepy) (2.10)\n",
            "Requirement already satisfied: urllib3<1.27,>=1.21.1 in /usr/local/lib/python3.7/dist-packages (from requests<3,>=2.27.0->tweepy) (1.24.3)\n",
            "Requirement already satisfied: charset-normalizer~=2.0.0 in /usr/local/lib/python3.7/dist-packages (from requests<3,>=2.27.0->tweepy) (2.0.12)\n",
            "Installing collected packages: requests, tweepy\n",
            "  Attempting uninstall: requests\n",
            "    Found existing installation: requests 2.23.0\n",
            "    Uninstalling requests-2.23.0:\n",
            "      Successfully uninstalled requests-2.23.0\n",
            "  Attempting uninstall: tweepy\n",
            "    Found existing installation: tweepy 3.10.0\n",
            "    Uninstalling tweepy-3.10.0:\n",
            "      Successfully uninstalled tweepy-3.10.0\n",
            "\u001b[31mERROR: pip's dependency resolver does not currently take into account all the packages that are installed. This behaviour is the source of the following dependency conflicts.\n",
            "google-colab 1.0.0 requires requests~=2.23.0, but you have requests 2.27.1 which is incompatible.\n",
            "datascience 0.10.6 requires folium==0.2.1, but you have folium 0.8.3 which is incompatible.\u001b[0m\n",
            "Successfully installed requests-2.27.1 tweepy-4.8.0\n"
          ]
        },
        {
          "output_type": "display_data",
          "data": {
            "application/vnd.colab-display-data+json": {
              "pip_warning": {
                "packages": [
                  "requests",
                  "tweepy"
                ]
              }
            }
          },
          "metadata": {}
        }
      ]
    },
    {
      "cell_type": "code",
      "source": [
        "import tweepy\n",
        "\n",
        "client = tweepy.Client(bearer_token='AAAAAAAAAAAAAAAAAAAAAMWYbQEAAAAAA37GSSS%2F5TaHfP62o4LK6UcXwzA%3DZOanMCdx2i1NhPK7uNYEgTc7JNvTsHtNuSPfTO3u5ZpWOOIFfG')"
      ],
      "metadata": {
        "id": "5dHV-BuwRSiV"
      },
      "execution_count": null,
      "outputs": []
    },
    {
      "cell_type": "markdown",
      "source": [
        "## Searching Tweets"
      ],
      "metadata": {
        "id": "gF2kKBB3TsZ3"
      }
    },
    {
      "cell_type": "code",
      "source": [
        "# Replace with your own search query\n",
        "query = 'jokowi -is:retweet'\n",
        "\n",
        "tweets = client.search_recent_tweets(query=query, tweet_fields=['context_annotations', 'created_at'], max_results=10)\n",
        "\n",
        "for tweet in tweets.data:\n",
        "    print(tweet.text)\n",
        "    if len(tweet.context_annotations) > 0:\n",
        "        print(tweet.context_annotations)"
      ],
      "metadata": {
        "colab": {
          "base_uri": "https://localhost:8080/"
        },
        "id": "fAw8Zf_6TkE0",
        "outputId": "59edcfb7-3121-416c-f45e-e1988fdea851"
      },
      "execution_count": null,
      "outputs": [
        {
          "output_type": "stream",
          "name": "stdout",
          "text": [
            "@MinnieS12345678 @jokowi hello kitty..\n",
            "[{'domain': {'id': '10', 'name': 'Person', 'description': 'Named people in the world like Nelson Mandela'}, 'entity': {'id': '897321707639152640', 'name': 'Joko Widodo', 'description': 'President of Indonesia Joko Widodo'}}, {'domain': {'id': '10', 'name': 'Person', 'description': 'Named people in the world like Nelson Mandela'}, 'entity': {'id': '1443277565393719296', 'name': 'Hello Kitty'}}, {'domain': {'id': '35', 'name': 'Politician', 'description': 'Politicians in the world, like Joe Biden'}, 'entity': {'id': '897321707639152640', 'name': 'Joko Widodo', 'description': 'President of Indonesia Joko Widodo'}}, {'domain': {'id': '47', 'name': 'Brand', 'description': 'Brands and Companies'}, 'entity': {'id': '1443277565393719296', 'name': 'Hello Kitty'}}, {'domain': {'id': '122', 'name': 'Fictional Character', 'description': 'A person or other being in a narrative work of art, like Tom Sawyer or Jon Snow'}, 'entity': {'id': '1443277565393719296', 'name': 'Hello Kitty'}}]\n",
            "harap di cek @DivHumas_Polri @jokowi @KSPgoid https://t.co/TQMh3T2jQC\n",
            "[{'domain': {'id': '10', 'name': 'Person', 'description': 'Named people in the world like Nelson Mandela'}, 'entity': {'id': '897321707639152640', 'name': 'Joko Widodo', 'description': 'President of Indonesia Joko Widodo'}}, {'domain': {'id': '35', 'name': 'Politician', 'description': 'Politicians in the world, like Joe Biden'}, 'entity': {'id': '897321707639152640', 'name': 'Joko Widodo', 'description': 'President of Indonesia Joko Widodo'}}, {'domain': {'id': '88', 'name': 'Political Body', 'description': 'A section of a government, like The Supreme Court'}, 'entity': {'id': '1209105602804215810', 'name': 'Indonesian National Police', 'description': ' the national police force of Indonesia'}}, {'domain': {'id': '65', 'name': 'Interests and Hobbies Vertical', 'description': 'Top level interests and hobbies groupings, like Food or Travel'}, 'entity': {'id': '781974596148793345', 'name': 'Business & finance'}}, {'domain': {'id': '66', 'name': 'Interests and Hobbies Category', 'description': 'A grouping of interests and hobbies entities, like Novelty Food or Destinations'}, 'entity': {'id': '857878257630195712', 'name': 'Government', 'description': 'Government'}}]\n",
            "Presiden Ingatkan Pemudik Tetap Menjaga Prokes\n",
            "Rakyat Bela Jokowi https://t.co/qAlyHU4uLr\n",
            "@Gojekmilitan Aparat Lengah Menjaga Influencer  Pembela Jokowi\n",
            "https://t.co/KlcxqiCTTN https://t.co/Dasi8Ag0uR\n",
            "@N1n9_471KU \n",
            "Ini pengikut setia anda. \n",
            "Yg mutualan posisi ke teteh @heni_nuraeni123 \n",
            "Ada 400 lebih apa sanggup blokir satu2 Bu RT yang Tersayang? \n",
            "    Kok aneh main medsos kok disetir.. Kecuali  dibelikan HP. Kouta. Mosok klu mau melayani warga harus cek, jokowi po oposisi 😀👇👇 https://t.co/jj43LccHk2\n",
            "@suroto_to75 @Aasteno3 @Helmi_Felis \"DEMO JOKOWI MEMBUAT BANDAR DEMO TEKOR, KADRUN GIGIT JARI JADILAH HIBURAN RAKYAT.\"\n",
            "@hyang_wisnu @kemkominfo @PlateJohnny @jokowi Cara memasang perangkat STB\n",
            "Siapkan STB, TV, dan remote.\n",
            "@PlateJohnny @kemkominfo\n",
            "[{'domain': {'id': '10', 'name': 'Person', 'description': 'Named people in the world like Nelson Mandela'}, 'entity': {'id': '897321707639152640', 'name': 'Joko Widodo', 'description': 'President of Indonesia Joko Widodo'}}, {'domain': {'id': '10', 'name': 'Person', 'description': 'Named people in the world like Nelson Mandela'}, 'entity': {'id': '1245009623364460544', 'name': 'Johnny G Plate'}}, {'domain': {'id': '35', 'name': 'Politician', 'description': 'Politicians in the world, like Joe Biden'}, 'entity': {'id': '897321707639152640', 'name': 'Joko Widodo', 'description': 'President of Indonesia Joko Widodo'}}, {'domain': {'id': '35', 'name': 'Politician', 'description': 'Politicians in the world, like Joe Biden'}, 'entity': {'id': '1245009623364460544', 'name': 'Johnny G Plate'}}, {'domain': {'id': '88', 'name': 'Political Body', 'description': 'A section of a government, like The Supreme Court'}, 'entity': {'id': '1209108858263592960', 'name': 'Ministry of Communication and Information Technology Indonesia', 'description': 'a ministry of the government of Indonesia that is responsible for communication and information affairs.'}}]\n",
            "@SahabatPropert3 @jokowi ..\n",
            "[{'domain': {'id': '10', 'name': 'Person', 'description': 'Named people in the world like Nelson Mandela'}, 'entity': {'id': '897321707639152640', 'name': 'Joko Widodo', 'description': 'President of Indonesia Joko Widodo'}}, {'domain': {'id': '35', 'name': 'Politician', 'description': 'Politicians in the world, like Joe Biden'}, 'entity': {'id': '897321707639152640', 'name': 'Joko Widodo', 'description': 'President of Indonesia Joko Widodo'}}]\n",
            "mohon bpk jokowi ganti kapolri_ri.\n",
            "https://t.co/xBiCOCrcPs\n",
            "[{'domain': {'id': '88', 'name': 'Political Body', 'description': 'A section of a government, like The Supreme Court'}, 'entity': {'id': '1209105602804215810', 'name': 'Indonesian National Police', 'description': ' the national police force of Indonesia'}}]\n",
            "@RFauzy5 @jokowi @prabowo udah BEGO,HALU lagi !! \"PECUNDANG\"\n",
            "[{'domain': {'id': '10', 'name': 'Person', 'description': 'Named people in the world like Nelson Mandela'}, 'entity': {'id': '897321707639152640', 'name': 'Joko Widodo', 'description': 'President of Indonesia Joko Widodo'}}, {'domain': {'id': '10', 'name': 'Person', 'description': 'Named people in the world like Nelson Mandela'}, 'entity': {'id': '1093596260353753088', 'name': 'Prabowo Subianto', 'description': 'Candidate for President of Indonesia, Prabowo Subianto'}}, {'domain': {'id': '35', 'name': 'Politician', 'description': 'Politicians in the world, like Joe Biden'}, 'entity': {'id': '897321707639152640', 'name': 'Joko Widodo', 'description': 'President of Indonesia Joko Widodo'}}, {'domain': {'id': '35', 'name': 'Politician', 'description': 'Politicians in the world, like Joe Biden'}, 'entity': {'id': '1093596260353753088', 'name': 'Prabowo Subianto', 'description': 'Candidate for President of Indonesia, Prabowo Subianto'}}]\n"
          ]
        }
      ]
    },
    {
      "cell_type": "markdown",
      "source": [
        "## Search All Tweets"
      ],
      "metadata": {
        "id": "YqzqrmhPVJnB"
      }
    },
    {
      "cell_type": "code",
      "source": [
        "# Replace with your own search query\n",
        "query = 'jokowi -is:retweet'\n",
        "\n",
        "# Name and path of the file where you want the Tweets written to\n",
        "file_name = 'tweets.txt'\n",
        "\n",
        "with open(file_name, 'a+') as filehandle:\n",
        "    for tweet in tweepy.Paginator(client.search_recent_tweets, query=query,\n",
        "                                  tweet_fields=['context_annotations', 'created_at'], max_results=100).flatten(\n",
        "            limit=1000):\n",
        "        filehandle.write('%s\\n' % tweet.id)"
      ],
      "metadata": {
        "id": "mda2vvz6VI13"
      },
      "execution_count": null,
      "outputs": []
    },
    {
      "cell_type": "markdown",
      "source": [
        "## Crawling Tweets"
      ],
      "metadata": {
        "id": "UvS7F5SmrpzE"
      }
    },
    {
      "cell_type": "markdown",
      "source": [
        "### Preparing"
      ],
      "metadata": {
        "id": "u9IftWt4sXFx"
      }
    },
    {
      "cell_type": "code",
      "source": [
        "import requests\n",
        "\n",
        "consumer_key=\"xVYKOXDRaaufoDIgPTDdJ9kWo\"\n",
        "consumer_secret=\"8R9gIFqY5XCwVVMMjILMzAsQOU9JYg3RCmbnnS3wCXFa5rS207\"\n",
        "access_token=\"17678612-29J5dpePYvEgBHr9L5vHU0jUy75Rffo5F3rFS8WUk\"\n",
        "access_token_secret=\"BH97EpGaCBPBDHLrBzPOWBYx06H1Ih71AUd0ioZyYtCLZ\"\n",
        "bearer_token =\"AAAAAAAAAAAAAAAAAAAAAMWYbQEAAAAAA37GSSS%2F5TaHfP62o4LK6UcXwzA%3DZOanMCdx2i1NhPK7uNYEgTc7JNvTsHtNuSPfTO3u5ZpWOOIFfG\"\n",
        "\n",
        "client = tweepy.Client( bearer_token=bearer_token, \n",
        "                        consumer_key=consumer_key, \n",
        "                        consumer_secret=consumer_secret, \n",
        "                        access_token=access_token, \n",
        "                        access_token_secret=access_token_secret, \n",
        "                        return_type = requests.Response,\n",
        "                        wait_on_rate_limit=True)"
      ],
      "metadata": {
        "id": "JKP_nihhsY86"
      },
      "execution_count": null,
      "outputs": []
    },
    {
      "cell_type": "markdown",
      "source": [
        "### Do it"
      ],
      "metadata": {
        "id": "vn0BREZjsafc"
      }
    },
    {
      "cell_type": "code",
      "source": [
        "import pandas as pd\n",
        "\n",
        "query = 'jokowi -is:retweet'\n",
        "\n",
        "tweets = client.search_recent_tweets(query=query, \n",
        "                                    tweet_fields=['author_id', 'created_at'],\n",
        "                                     max_results=100)\n",
        "\n",
        "# Save data as dictionary\n",
        "tweets_dict = tweets.json() \n",
        "\n",
        "# Extract \"data\" value from dictionary\n",
        "tweets_data = tweets_dict['data'] \n",
        "\n",
        "# Transform to pandas Dataframe\n",
        "df = pd.json_normalize(tweets_data) "
      ],
      "metadata": {
        "id": "mm7rQqH2oRHP"
      },
      "execution_count": null,
      "outputs": []
    },
    {
      "cell_type": "code",
      "source": [
        "df"
      ],
      "metadata": {
        "colab": {
          "base_uri": "https://localhost:8080/",
          "height": 1315
        },
        "id": "NWzY3kxNsH0r",
        "outputId": "b93b597d-b18b-4438-c008-061787e12fc5"
      },
      "execution_count": null,
      "outputs": [
        {
          "output_type": "execute_result",
          "data": {
            "text/plain": [
              "                  created_at            author_id                   id  \\\n",
              "0   2022-04-12T07:36:24.000Z  1208623711311421441  1513783073930100741   \n",
              "1   2022-04-12T07:36:04.000Z  1484365795853762560  1513782992703213571   \n",
              "2   2022-04-12T07:35:59.000Z  1485483913728630784  1513782970066554883   \n",
              "3   2022-04-12T07:35:58.000Z  1100628763065217024  1513782965364408320   \n",
              "4   2022-04-12T07:35:52.000Z  1499073498483884033  1513782940479602691   \n",
              "..                       ...                  ...                  ...   \n",
              "95  2022-04-12T07:30:45.000Z           1379431842  1513781654380478466   \n",
              "96  2022-04-12T07:30:44.000Z  1332259261129256962  1513781649011781635   \n",
              "97  2022-04-12T07:30:33.000Z             84447580  1513781600961540096   \n",
              "98  2022-04-12T07:30:31.000Z  1326404439696166912  1513781592723918851   \n",
              "99  2022-04-12T07:30:27.000Z   992673313141899264  1513781576995606528   \n",
              "\n",
              "                                                 text  \n",
              "0   @democrazymedia Percayalah pung ,aroganmu akan...  \n",
              "1   @ariandi6031 Jokowi juga disebut senang meliha...  \n",
              "2   @ariandi6031 menyebut Presiden Joko Widodo (Jo...  \n",
              "3   @PartaiSocmed @jokowi Memaksakan proyek mercus...  \n",
              "4   Siap dukung Pembangunan IKN #IKN #Jokowi #Indo...  \n",
              "..                                                ...  \n",
              "95                 @Santanha_88 @jokowi Ada apa ini ?  \n",
              "96  @Kemenag_RI  @jokowi \\nKalian pemimpin mayorit...  \n",
              "97  Rekam Jejak Komisioner KPU 2022-2027 yang Baru...  \n",
              "98  @Maya83206301 @jokowi @ChusnulCh__ @Santorinis...  \n",
              "99  Calon Haji Indonesia Bisa Berangkat Tahun Ini ...  \n",
              "\n",
              "[100 rows x 4 columns]"
            ],
            "text/html": [
              "\n",
              "  <div id=\"df-2c4c8bd6-257a-4745-a1de-d71d84a30425\">\n",
              "    <div class=\"colab-df-container\">\n",
              "      <div>\n",
              "<style scoped>\n",
              "    .dataframe tbody tr th:only-of-type {\n",
              "        vertical-align: middle;\n",
              "    }\n",
              "\n",
              "    .dataframe tbody tr th {\n",
              "        vertical-align: top;\n",
              "    }\n",
              "\n",
              "    .dataframe thead th {\n",
              "        text-align: right;\n",
              "    }\n",
              "</style>\n",
              "<table border=\"1\" class=\"dataframe\">\n",
              "  <thead>\n",
              "    <tr style=\"text-align: right;\">\n",
              "      <th></th>\n",
              "      <th>created_at</th>\n",
              "      <th>author_id</th>\n",
              "      <th>id</th>\n",
              "      <th>text</th>\n",
              "    </tr>\n",
              "  </thead>\n",
              "  <tbody>\n",
              "    <tr>\n",
              "      <th>0</th>\n",
              "      <td>2022-04-12T07:36:24.000Z</td>\n",
              "      <td>1208623711311421441</td>\n",
              "      <td>1513783073930100741</td>\n",
              "      <td>@democrazymedia Percayalah pung ,aroganmu akan...</td>\n",
              "    </tr>\n",
              "    <tr>\n",
              "      <th>1</th>\n",
              "      <td>2022-04-12T07:36:04.000Z</td>\n",
              "      <td>1484365795853762560</td>\n",
              "      <td>1513782992703213571</td>\n",
              "      <td>@ariandi6031 Jokowi juga disebut senang meliha...</td>\n",
              "    </tr>\n",
              "    <tr>\n",
              "      <th>2</th>\n",
              "      <td>2022-04-12T07:35:59.000Z</td>\n",
              "      <td>1485483913728630784</td>\n",
              "      <td>1513782970066554883</td>\n",
              "      <td>@ariandi6031 menyebut Presiden Joko Widodo (Jo...</td>\n",
              "    </tr>\n",
              "    <tr>\n",
              "      <th>3</th>\n",
              "      <td>2022-04-12T07:35:58.000Z</td>\n",
              "      <td>1100628763065217024</td>\n",
              "      <td>1513782965364408320</td>\n",
              "      <td>@PartaiSocmed @jokowi Memaksakan proyek mercus...</td>\n",
              "    </tr>\n",
              "    <tr>\n",
              "      <th>4</th>\n",
              "      <td>2022-04-12T07:35:52.000Z</td>\n",
              "      <td>1499073498483884033</td>\n",
              "      <td>1513782940479602691</td>\n",
              "      <td>Siap dukung Pembangunan IKN #IKN #Jokowi #Indo...</td>\n",
              "    </tr>\n",
              "    <tr>\n",
              "      <th>...</th>\n",
              "      <td>...</td>\n",
              "      <td>...</td>\n",
              "      <td>...</td>\n",
              "      <td>...</td>\n",
              "    </tr>\n",
              "    <tr>\n",
              "      <th>95</th>\n",
              "      <td>2022-04-12T07:30:45.000Z</td>\n",
              "      <td>1379431842</td>\n",
              "      <td>1513781654380478466</td>\n",
              "      <td>@Santanha_88 @jokowi Ada apa ini ?</td>\n",
              "    </tr>\n",
              "    <tr>\n",
              "      <th>96</th>\n",
              "      <td>2022-04-12T07:30:44.000Z</td>\n",
              "      <td>1332259261129256962</td>\n",
              "      <td>1513781649011781635</td>\n",
              "      <td>@Kemenag_RI  @jokowi \\nKalian pemimpin mayorit...</td>\n",
              "    </tr>\n",
              "    <tr>\n",
              "      <th>97</th>\n",
              "      <td>2022-04-12T07:30:33.000Z</td>\n",
              "      <td>84447580</td>\n",
              "      <td>1513781600961540096</td>\n",
              "      <td>Rekam Jejak Komisioner KPU 2022-2027 yang Baru...</td>\n",
              "    </tr>\n",
              "    <tr>\n",
              "      <th>98</th>\n",
              "      <td>2022-04-12T07:30:31.000Z</td>\n",
              "      <td>1326404439696166912</td>\n",
              "      <td>1513781592723918851</td>\n",
              "      <td>@Maya83206301 @jokowi @ChusnulCh__ @Santorinis...</td>\n",
              "    </tr>\n",
              "    <tr>\n",
              "      <th>99</th>\n",
              "      <td>2022-04-12T07:30:27.000Z</td>\n",
              "      <td>992673313141899264</td>\n",
              "      <td>1513781576995606528</td>\n",
              "      <td>Calon Haji Indonesia Bisa Berangkat Tahun Ini ...</td>\n",
              "    </tr>\n",
              "  </tbody>\n",
              "</table>\n",
              "<p>100 rows × 4 columns</p>\n",
              "</div>\n",
              "      <button class=\"colab-df-convert\" onclick=\"convertToInteractive('df-2c4c8bd6-257a-4745-a1de-d71d84a30425')\"\n",
              "              title=\"Convert this dataframe to an interactive table.\"\n",
              "              style=\"display:none;\">\n",
              "        \n",
              "  <svg xmlns=\"http://www.w3.org/2000/svg\" height=\"24px\"viewBox=\"0 0 24 24\"\n",
              "       width=\"24px\">\n",
              "    <path d=\"M0 0h24v24H0V0z\" fill=\"none\"/>\n",
              "    <path d=\"M18.56 5.44l.94 2.06.94-2.06 2.06-.94-2.06-.94-.94-2.06-.94 2.06-2.06.94zm-11 1L8.5 8.5l.94-2.06 2.06-.94-2.06-.94L8.5 2.5l-.94 2.06-2.06.94zm10 10l.94 2.06.94-2.06 2.06-.94-2.06-.94-.94-2.06-.94 2.06-2.06.94z\"/><path d=\"M17.41 7.96l-1.37-1.37c-.4-.4-.92-.59-1.43-.59-.52 0-1.04.2-1.43.59L10.3 9.45l-7.72 7.72c-.78.78-.78 2.05 0 2.83L4 21.41c.39.39.9.59 1.41.59.51 0 1.02-.2 1.41-.59l7.78-7.78 2.81-2.81c.8-.78.8-2.07 0-2.86zM5.41 20L4 18.59l7.72-7.72 1.47 1.35L5.41 20z\"/>\n",
              "  </svg>\n",
              "      </button>\n",
              "      \n",
              "  <style>\n",
              "    .colab-df-container {\n",
              "      display:flex;\n",
              "      flex-wrap:wrap;\n",
              "      gap: 12px;\n",
              "    }\n",
              "\n",
              "    .colab-df-convert {\n",
              "      background-color: #E8F0FE;\n",
              "      border: none;\n",
              "      border-radius: 50%;\n",
              "      cursor: pointer;\n",
              "      display: none;\n",
              "      fill: #1967D2;\n",
              "      height: 32px;\n",
              "      padding: 0 0 0 0;\n",
              "      width: 32px;\n",
              "    }\n",
              "\n",
              "    .colab-df-convert:hover {\n",
              "      background-color: #E2EBFA;\n",
              "      box-shadow: 0px 1px 2px rgba(60, 64, 67, 0.3), 0px 1px 3px 1px rgba(60, 64, 67, 0.15);\n",
              "      fill: #174EA6;\n",
              "    }\n",
              "\n",
              "    [theme=dark] .colab-df-convert {\n",
              "      background-color: #3B4455;\n",
              "      fill: #D2E3FC;\n",
              "    }\n",
              "\n",
              "    [theme=dark] .colab-df-convert:hover {\n",
              "      background-color: #434B5C;\n",
              "      box-shadow: 0px 1px 3px 1px rgba(0, 0, 0, 0.15);\n",
              "      filter: drop-shadow(0px 1px 2px rgba(0, 0, 0, 0.3));\n",
              "      fill: #FFFFFF;\n",
              "    }\n",
              "  </style>\n",
              "\n",
              "      <script>\n",
              "        const buttonEl =\n",
              "          document.querySelector('#df-2c4c8bd6-257a-4745-a1de-d71d84a30425 button.colab-df-convert');\n",
              "        buttonEl.style.display =\n",
              "          google.colab.kernel.accessAllowed ? 'block' : 'none';\n",
              "\n",
              "        async function convertToInteractive(key) {\n",
              "          const element = document.querySelector('#df-2c4c8bd6-257a-4745-a1de-d71d84a30425');\n",
              "          const dataTable =\n",
              "            await google.colab.kernel.invokeFunction('convertToInteractive',\n",
              "                                                     [key], {});\n",
              "          if (!dataTable) return;\n",
              "\n",
              "          const docLinkHtml = 'Like what you see? Visit the ' +\n",
              "            '<a target=\"_blank\" href=https://colab.research.google.com/notebooks/data_table.ipynb>data table notebook</a>'\n",
              "            + ' to learn more about interactive tables.';\n",
              "          element.innerHTML = '';\n",
              "          dataTable['output_type'] = 'display_data';\n",
              "          await google.colab.output.renderOutput(dataTable, element);\n",
              "          const docLink = document.createElement('div');\n",
              "          docLink.innerHTML = docLinkHtml;\n",
              "          element.appendChild(docLink);\n",
              "        }\n",
              "      </script>\n",
              "    </div>\n",
              "  </div>\n",
              "  "
            ]
          },
          "metadata": {},
          "execution_count": 13
        }
      ]
    },
    {
      "cell_type": "code",
      "source": [
        "# save df\n",
        "df.to_csv(\"tweets.csv\")"
      ],
      "metadata": {
        "id": "BFmp_eBZtKT5"
      },
      "execution_count": null,
      "outputs": []
    }
  ],
  "metadata": {
    "kernelspec": {
      "display_name": "Python 3",
      "language": "python",
      "name": "python3"
    },
    "language_info": {
      "codemirror_mode": {
        "name": "ipython",
        "version": 3
      },
      "file_extension": ".py",
      "mimetype": "text/x-python",
      "name": "python",
      "nbconvert_exporter": "python",
      "pygments_lexer": "ipython3",
      "version": "3.6.8"
    },
    "colab": {
      "name": "TwitterCrawlingTweepy.ipynb",
      "provenance": [],
      "collapsed_sections": []
    }
  },
  "nbformat": 4,
  "nbformat_minor": 0
}