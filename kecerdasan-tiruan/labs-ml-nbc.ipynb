{
 "cells": [
  {
   "cell_type": "markdown",
   "metadata": {
    "button": false,
    "id": "YPEoHXDy6oDb",
    "new_sheet": false,
    "run_control": {
     "read_only": false
    }
   },
   "source": [
    "<a href=\"https://www.youtube.com/channel/UC80kXszNqAdWGTHFBcOKVdg\"><img src=\"https://lh3.googleusercontent.com/3BGYLiEKEvFZ0u6eLcDbKvad__jwIRs30D19_ttfwuMv2TrJ3qovD_Lb_HGF4QvSCeVYoE2Ay6Hkfx0wN0LFV1VvILg7XIdrqR7bE9EtnbF2SwYIueV1-B33aomEwjTmkAKDY4TYopVfaSbfsBWzwfOXpoKy_ASFSrjKt_2p_E35fyTkTbES2t9GUnZ25bMjAe_Y4xqfkw-8lRqK9zCYVwlcD_e2YXUlNXs8ubJCHwZp3MAdPL3kWzLMnuVAKsiORvjt_IgCVINNcDAqfak56arvmtg4MXpcbyKSeYK2A33p0jcFnOkgddq3KhABVNqb0PRM7inpysBXMJ7-u7Q__Y4LVGdFh_gTmuPcxHQZXqS10kU_K86bOQtgqY5m9DjJ5Ixd--sxiR4evRr4LnjDH-9L-6Rcu4EZI6LXMxlANCuFGuTLgIIqrq6qgIliinjuxyuwsX-cl-pE_Y3TBcZ5dum52_O8HtkuPo3NOQXD0Pg4ZfQV11CSkeD-82HaONupDREROrrgFOriOYljzSj4438GSaK4IUTfDjP1UFMKnA6QuZGhSA0noStBSeIwTitSUsHbspxGwYm05Of9UiP-vpvhB5zGDUWl2gLpPsXxz6SDNlDGsVFekX81jNOrFnDzj-Me98FgK4AAmW4Of6Z8LN1ZjBw1MdFwGabLN94tHUMg0sPf-UJFbw5XqN0spoltuB8YmAGSyIWLHoC4eVuARcEX=w1659-h300-no?authuser=0\" align=\"center\"></a>\n",
    "# <center>Supervised Learning: **Klasifikasi Naive Bayes**</center>"
   ]
  },
  {
   "cell_type": "markdown",
   "metadata": {
    "button": false,
    "id": "n4X3MrX-6oDg",
    "new_sheet": false,
    "run_control": {
     "read_only": false
    }
   },
   "source": [
    "Praktikum ini bertujuan untuk memberikan pemahaman praktis mengenai salah satu metode klasifikasi **Naive Bayes Classifier (NBC)**. NBC merupakan metode klasifikasi tersupervisi yang berbasis statistik probabilitas dari dataset. NBC pada dasarnya diperuntukkan untuk jenis atribut kategorikal, namun untuk data numerik bisa disiasati dengan menerapkan metode Gaussian, sehingga sering disebut sebagai **Gaussian Naive Bayes**. Penjelasan rinci mengenai metode Naive Bayes Classifier secara konseptual dapat disimak di video: https://youtu.be/CJZN51tudS0."
   ]
  },
  {
   "cell_type": "markdown",
   "metadata": {
    "button": false,
    "id": "3Vb4AJ4x6oDi",
    "new_sheet": false,
    "run_control": {
     "read_only": false
    }
   },
   "source": [
    "\n",
    "\n",
    "**Pertama**, kita load dulu berbagai library yang diperlukan, yaitu:\n",
    "\n",
    "1. NumPy\n",
    "2. Pandas\n",
    "3. GaussianNB\n",
    "4. train_test_split\n",
    "5. accuracy_score\n",
    "6. Matplotlib\n",
    "\n",
    "\n",
    "\n"
   ]
  },
  {
   "cell_type": "code",
   "execution_count": 1,
   "metadata": {
    "button": false,
    "id": "yotb7aHm6oDi",
    "new_sheet": false,
    "run_control": {
     "read_only": false
    }
   },
   "outputs": [],
   "source": [
    "import numpy as np\n",
    "import pandas as pd\n",
    "from sklearn.model_selection import train_test_split\n",
    "from sklearn.naive_bayes import GaussianNB\n",
    "from sklearn.metrics import accuracy_score\n",
    "import matplotlib.pyplot as plt"
   ]
  },
  {
   "cell_type": "markdown",
   "metadata": {
    "button": false,
    "id": "q5InUruF6oDj",
    "new_sheet": false,
    "run_control": {
     "read_only": false
    }
   },
   "source": [
    "### Dataset"
   ]
  },
  {
   "cell_type": "markdown",
   "metadata": {
    "button": false,
    "id": "yMwHOOXE6oDj",
    "new_sheet": false,
    "run_control": {
     "read_only": false
    }
   },
   "source": [
    "Pada praktikum ini, kita akan menggunakan dataset Iris. Dataset Iris merupakan dataset multivariate yang diperkenalkan oleh ahli statistika dan biologi inggris, Ronald Fisher, pada tahun 1936. Dataset bunga Iris ini sangat terkenal di dunia Machine Learning yang digunakan untuk ujicoba berbagai metode klasifikasi.\n",
    "\n",
    "Dataset ini terdiri dari 3 spesies Iris yaitu Iris Setosa, Iris Virginica, dan Iris Versicolor dan tiap spesiesnya memiliki 50 sampel. Dalam data Iris terdapat 4 atribut yang dapat mempengaruhi klasifikasi yaitu, sepal length (panjang kelopak), sepal width (lebar kelopak), petal length (panjang bunga), dan petal width (lebar bunga) dalam centimeter yang berbeda-beda.\n",
    "\n",
    "Pada praktikum ini, kita akan mengambil dataset IRIS dari repository dataset yang telah disediakan oleh **sklearn**. "
   ]
  },
  {
   "cell_type": "markdown",
   "metadata": {
    "button": false,
    "id": "98Tn-UQj6oDj",
    "new_sheet": false,
    "run_control": {
     "read_only": false
    }
   },
   "source": [
    "**Catatan**:\n",
    "1. Jika ingin mengunduh dataset IRIS, dapat diperoleh dari laman [kumpulan dataset](https://github.com/achmatim/data-mining/tree/main/Dataset) (github).\n",
    "\n",
    "2. Jika dataset berada di komputer lokal, dan kita menggunakan Jupyter maka untuk me-load dataset dapat menggunakan perintah **read_csv()** dengan parameter path/to/file.csv."
   ]
  },
  {
   "cell_type": "markdown",
   "metadata": {
    "button": false,
    "id": "jc0turIy6oDk",
    "new_sheet": false,
    "run_control": {
     "read_only": false
    }
   },
   "source": [
    "### Load Dataset"
   ]
  },
  {
   "cell_type": "code",
   "execution_count": 4,
   "metadata": {
    "button": false,
    "colab": {
     "base_uri": "https://localhost:8080/",
     "height": 488
    },
    "id": "ZAzoqKmq6oDk",
    "new_sheet": false,
    "outputId": "fed212a8-d543-4059-fa99-8c01d2b8f13c",
    "run_control": {
     "read_only": false
    }
   },
   "outputs": [
    {
     "name": "stdout",
     "output_type": "stream",
     "text": [
      "(150, 4)\n",
      "(150,)\n"
     ]
    }
   ],
   "source": [
    "from sklearn import datasets\n",
    "\n",
    "iris = datasets.load_iris()\n",
    "X = iris.data\n",
    "y = iris.target\n",
    "\n",
    "print(X.shape)\n",
    "print(y.shape)"
   ]
  },
  {
   "cell_type": "markdown",
   "metadata": {
    "button": false,
    "id": "unxfGRjm6oDl",
    "new_sheet": false,
    "run_control": {
     "read_only": false
    }
   },
   "source": [
    "# Visualisasi dan Analisis Data \n",
    "\n"
   ]
  },
  {
   "cell_type": "markdown",
   "metadata": {
    "button": false,
    "id": "ePhkVE0N6oDl",
    "new_sheet": false,
    "run_control": {
     "read_only": false
    }
   },
   "source": [
    "#### Coba kita tampilkan kolomnya"
   ]
  },
  {
   "cell_type": "code",
   "execution_count": 9,
   "metadata": {
    "button": false,
    "colab": {
     "base_uri": "https://localhost:8080/"
    },
    "id": "NiQokJdm6oDl",
    "new_sheet": false,
    "outputId": "4562b4e5-0de0-4b8a-807f-9c7097de043f",
    "run_control": {
     "read_only": false
    }
   },
   "outputs": [
    {
     "name": "stdout",
     "output_type": "stream",
     "text": [
      "['setosa' 'versicolor' 'virginica']\n"
     ]
    }
   ],
   "source": [
    "print(iris.target_names)"
   ]
  },
  {
   "cell_type": "markdown",
   "metadata": {
    "button": false,
    "id": "Uesn0nD06oDl",
    "new_sheet": false,
    "run_control": {
     "read_only": false
    }
   },
   "source": [
    "#### Kita juga bisa menampilkan deskripsi dari dataset IRIS\n"
   ]
  },
  {
   "cell_type": "code",
   "execution_count": 10,
   "metadata": {},
   "outputs": [
    {
     "name": "stdout",
     "output_type": "stream",
     "text": [
      ".. _iris_dataset:\n",
      "\n",
      "Iris plants dataset\n",
      "--------------------\n",
      "\n",
      "**Data Set Characteristics:**\n",
      "\n",
      "    :Number of Instances: 150 (50 in each of three classes)\n",
      "    :Number of Attributes: 4 numeric, predictive attributes and the class\n",
      "    :Attribute Information:\n",
      "        - sepal length in cm\n",
      "        - sepal width in cm\n",
      "        - petal length in cm\n",
      "        - petal width in cm\n",
      "        - class:\n",
      "                - Iris-Setosa\n",
      "                - Iris-Versicolour\n",
      "                - Iris-Virginica\n",
      "                \n",
      "    :Summary Statistics:\n",
      "\n",
      "    ============== ==== ==== ======= ===== ====================\n",
      "                    Min  Max   Mean    SD   Class Correlation\n",
      "    ============== ==== ==== ======= ===== ====================\n",
      "    sepal length:   4.3  7.9   5.84   0.83    0.7826\n",
      "    sepal width:    2.0  4.4   3.05   0.43   -0.4194\n",
      "    petal length:   1.0  6.9   3.76   1.76    0.9490  (high!)\n",
      "    petal width:    0.1  2.5   1.20   0.76    0.9565  (high!)\n",
      "    ============== ==== ==== ======= ===== ====================\n",
      "\n",
      "    :Missing Attribute Values: None\n",
      "    :Class Distribution: 33.3% for each of 3 classes.\n",
      "    :Creator: R.A. Fisher\n",
      "    :Donor: Michael Marshall (MARSHALL%PLU@io.arc.nasa.gov)\n",
      "    :Date: July, 1988\n",
      "\n",
      "The famous Iris database, first used by Sir R.A. Fisher. The dataset is taken\n",
      "from Fisher's paper. Note that it's the same as in R, but not as in the UCI\n",
      "Machine Learning Repository, which has two wrong data points.\n",
      "\n",
      "This is perhaps the best known database to be found in the\n",
      "pattern recognition literature.  Fisher's paper is a classic in the field and\n",
      "is referenced frequently to this day.  (See Duda & Hart, for example.)  The\n",
      "data set contains 3 classes of 50 instances each, where each class refers to a\n",
      "type of iris plant.  One class is linearly separable from the other 2; the\n",
      "latter are NOT linearly separable from each other.\n",
      "\n",
      ".. topic:: References\n",
      "\n",
      "   - Fisher, R.A. \"The use of multiple measurements in taxonomic problems\"\n",
      "     Annual Eugenics, 7, Part II, 179-188 (1936); also in \"Contributions to\n",
      "     Mathematical Statistics\" (John Wiley, NY, 1950).\n",
      "   - Duda, R.O., & Hart, P.E. (1973) Pattern Classification and Scene Analysis.\n",
      "     (Q327.D83) John Wiley & Sons.  ISBN 0-471-22361-1.  See page 218.\n",
      "   - Dasarathy, B.V. (1980) \"Nosing Around the Neighborhood: A New System\n",
      "     Structure and Classification Rule for Recognition in Partially Exposed\n",
      "     Environments\".  IEEE Transactions on Pattern Analysis and Machine\n",
      "     Intelligence, Vol. PAMI-2, No. 1, 67-71.\n",
      "   - Gates, G.W. (1972) \"The Reduced Nearest Neighbor Rule\".  IEEE Transactions\n",
      "     on Information Theory, May 1972, 431-433.\n",
      "   - See also: 1988 MLC Proceedings, 54-64.  Cheeseman et al\"s AUTOCLASS II\n",
      "     conceptual clustering system finds 3 classes in the data.\n",
      "   - Many, many more ...\n"
     ]
    }
   ],
   "source": [
    "print(iris.DESCR)"
   ]
  },
  {
   "cell_type": "markdown",
   "metadata": {
    "button": false,
    "id": "wKm4pP4g6oDm",
    "new_sheet": false,
    "run_control": {
     "read_only": false
    }
   },
   "source": [
    "### Latihan"
   ]
  },
  {
   "cell_type": "markdown",
   "metadata": {
    "button": false,
    "id": "k7OYmxw-6oDm",
    "new_sheet": false,
    "run_control": {
     "read_only": false
    }
   },
   "source": [
    "Tampilkan grafik jumlah data per kelas(target)-nya!"
   ]
  },
  {
   "cell_type": "code",
   "execution_count": null,
   "metadata": {},
   "outputs": [],
   "source": [
    "# tuliskan kode di sini"
   ]
  },
  {
   "cell_type": "markdown",
   "metadata": {
    "button": false,
    "id": "wKm4pP4g6oDm",
    "new_sheet": false,
    "run_control": {
     "read_only": false
    }
   },
   "source": [
    "## Data Pre-processing"
   ]
  },
  {
   "cell_type": "markdown",
   "metadata": {
    "button": false,
    "id": "E_krttcj6oDo",
    "new_sheet": false,
    "run_control": {
     "read_only": false
    }
   },
   "source": [
    "### Pembagian Data Training dan Testing  \n",
    "Untuk menghasilkan model yang baik, perlu dilakukan pengujian yang baik. Aturan umum yang berlaku adalah data training dan testing harus dipisahkan terlebih dahulu. Dengan kata lain tidak boleh menggunakan data yang sama untuk training dan testing.\n",
    "\n",
    "Pembagian dataset dapat dilakukan dengan mekanisme A atau B seperti tersaji pada gambar berikut:\n",
    "<img src=\"https://upload.wikimedia.org/wikipedia/commons/b/bb/ML_dataset_training_validation_test_sets.png\"/>\n",
    "\n",
    "Untuk mempermudah, kali ini kita pake skenario A, hanya membagi dataset menjadi data training dan testing. Untuk komposisi yang digunakan sebesar **80% data training dan 20% data testing**.\n"
   ]
  },
  {
   "cell_type": "code",
   "execution_count": 12,
   "metadata": {
    "button": false,
    "colab": {
     "base_uri": "https://localhost:8080/"
    },
    "id": "kOQinm8C6oDo",
    "new_sheet": false,
    "outputId": "bdee4cfa-72d1-4826-9898-9378d850de1b",
    "run_control": {
     "read_only": false
    }
   },
   "outputs": [
    {
     "name": "stdout",
     "output_type": "stream",
     "text": [
      "Train set: (120, 4) (120,)\n",
      "Test set: (30, 4) (30,)\n"
     ]
    }
   ],
   "source": [
    "from sklearn.model_selection import train_test_split\n",
    "X_train, X_test, y_train, y_test = train_test_split( X, y, test_size=0.2, random_state=4)\n",
    "print ('Train set:', X_train.shape,  y_train.shape)\n",
    "print ('Test set:', X_test.shape,  y_test.shape)"
   ]
  },
  {
   "cell_type": "markdown",
   "metadata": {
    "button": false,
    "id": "50gbRia76oDp",
    "new_sheet": false,
    "run_control": {
     "read_only": false
    }
   },
   "source": [
    "# Implementasi Metode Klasifikasi "
   ]
  },
  {
   "cell_type": "markdown",
   "metadata": {
    "button": false,
    "id": "LtGEP6hM6oDp",
    "new_sheet": false,
    "run_control": {
     "read_only": false
    }
   },
   "source": [
    "## Gaussian Naive Bayes Classifier"
   ]
  },
  {
   "cell_type": "markdown",
   "metadata": {
    "button": false,
    "id": "lfS1QsAh6oDp",
    "new_sheet": false,
    "run_control": {
     "read_only": false
    }
   },
   "source": [
    "#### Import library "
   ]
  },
  {
   "cell_type": "markdown",
   "metadata": {
    "button": false,
    "id": "VPrRvalq6oDp",
    "new_sheet": false,
    "run_control": {
     "read_only": false
    }
   },
   "source": [
    "Library Gaussian Naive Bayes (GaussianNB) sudah kita import di bagian awal praktikum ini, jadi tidak perlu mengimport kembali"
   ]
  },
  {
   "cell_type": "code",
   "execution_count": null,
   "metadata": {
    "button": false,
    "collapsed": true,
    "id": "nn2a8nuo6oDp",
    "new_sheet": false,
    "run_control": {
     "read_only": false
    }
   },
   "outputs": [],
   "source": [
    "# from sklearn.naive_bayes import GaussianNB"
   ]
  },
  {
   "cell_type": "markdown",
   "metadata": {
    "button": false,
    "id": "_gvf1_8d6oDp",
    "new_sheet": false,
    "run_control": {
     "read_only": false
    }
   },
   "source": [
    "### Training\n",
    "\n",
    "Pertama, lakukan train dengan model NBC:"
   ]
  },
  {
   "cell_type": "code",
   "execution_count": 13,
   "metadata": {
    "button": false,
    "colab": {
     "base_uri": "https://localhost:8080/"
    },
    "id": "0wCnQkJB6oDq",
    "new_sheet": false,
    "outputId": "f88b79e9-a11f-49e6-a6c7-3900078aaa7e",
    "run_control": {
     "read_only": false
    }
   },
   "outputs": [
    {
     "data": {
      "text/plain": [
       "GaussianNB()"
      ]
     },
     "execution_count": 13,
     "metadata": {},
     "output_type": "execute_result"
    }
   ],
   "source": [
    "model = GaussianNB()\n",
    "model.fit(X_train,y_train)"
   ]
  },
  {
   "cell_type": "markdown",
   "metadata": {
    "button": false,
    "id": "T9b2MpOG6oDq",
    "new_sheet": false,
    "run_control": {
     "read_only": false
    }
   },
   "source": [
    "### Predicting\n",
    "Kita sudah dapat menggunakan model yang terbentuk untuk memprediksikan data"
   ]
  },
  {
   "cell_type": "code",
   "execution_count": 14,
   "metadata": {
    "button": false,
    "colab": {
     "base_uri": "https://localhost:8080/"
    },
    "id": "_M_EoXIh6oDq",
    "new_sheet": false,
    "outputId": "f0eed639-5ad0-486a-891e-31d636dd785f",
    "run_control": {
     "read_only": false
    }
   },
   "outputs": [],
   "source": [
    "y_pred = model.predict(X_test)"
   ]
  },
  {
   "cell_type": "code",
   "execution_count": 15,
   "metadata": {},
   "outputs": [
    {
     "name": "stdout",
     "output_type": "stream",
     "text": [
      "[2 0 2 2 2]\n",
      "[2 0 2 2 2]\n"
     ]
    }
   ],
   "source": [
    "print(y_pred[0:5])\n",
    "print(y_test[0:5])"
   ]
  },
  {
   "cell_type": "markdown",
   "metadata": {
    "button": false,
    "id": "VIKpxsds6oDq",
    "new_sheet": false,
    "run_control": {
     "read_only": false
    }
   },
   "source": [
    "### Perhitungan Akurasi\n",
    "Pada klasifikasi, __nilai akurasi klasifikasi__ secara sederhana dapat dihitung dengan memperbandingkan kelas **hasil prediksi** algoritma dengan kelas sebenarnya / **actual class**."
   ]
  },
  {
   "cell_type": "code",
   "execution_count": 16,
   "metadata": {
    "colab": {
     "base_uri": "https://localhost:8080/"
    },
    "id": "MCsMucII6oDq",
    "outputId": "60b7cfce-1433-4861-d700-7ebc3fcafd67"
   },
   "outputs": [
    {
     "name": "stdout",
     "output_type": "stream",
     "text": [
      "Test set Accuracy:  0.9666666666666667\n"
     ]
    }
   ],
   "source": [
    "from sklearn import metrics\n",
    "print(\"Test set Accuracy: \", metrics.accuracy_score(y_pred, y_test))"
   ]
  },
  {
   "cell_type": "markdown",
   "metadata": {
    "button": false,
    "id": "sEnAfZrp6oDt",
    "new_sheet": false,
    "run_control": {
     "read_only": false
    }
   },
   "source": [
    "## Ingin belajar lebih banyak lagi?\n",
    "\n",
    "Banyak video pembelajaran terkait Machine Learning yang disajikan di channel Youtube http://youtube.com/c/AchmadSolichin. Silahkan berkunjung dan jangan lupa **SUBSCRIBE** untuk membantu pengembangan channel dengan video-video berkualitas lainnya.\n",
    "\n",
    "### Terima kasih, selamat belajar!\n",
    "\n",
    "Lab ini dibuat oleh: <a href = \"http://achmatim.net\">Dr. Achmad Solichin</a> dengan acuan dari berbagai sumber.\n",
    "\n",
    "<hr>\n",
    "Copyright &copy; 2021 <a href=\"http://achmatim.net\">[Achmatim.Net]</a>. This notebook and its source code are released under the terms of the CC License.​"
   ]
  }
 ],
 "metadata": {
  "colab": {
   "name": "labs-ml-dt.ipynb",
   "provenance": []
  },
  "kernelspec": {
   "display_name": "Python 3",
   "language": "python",
   "name": "python3"
  },
  "language_info": {
   "codemirror_mode": {
    "name": "ipython",
    "version": 3
   },
   "file_extension": ".py",
   "mimetype": "text/x-python",
   "name": "python",
   "nbconvert_exporter": "python",
   "pygments_lexer": "ipython3",
   "version": "3.8.3"
  }
 },
 "nbformat": 4,
 "nbformat_minor": 1
}
